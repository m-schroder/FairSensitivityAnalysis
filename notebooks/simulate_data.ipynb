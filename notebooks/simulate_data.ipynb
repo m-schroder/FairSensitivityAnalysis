{
 "cells": [
  {
   "cell_type": "markdown",
   "metadata": {},
   "source": [
    "# Notebook for generating simulated datasets"
   ]
  },
  {
   "cell_type": "code",
   "execution_count": null,
   "metadata": {},
   "outputs": [],
   "source": [
    "import os\n",
    "import sys\n",
    "module_path = os.path.abspath(os.path.join('..'))\n",
    "if module_path not in sys.path:\n",
    "    sys.path.append(module_path)\n",
    "\n",
    "from pyparcs.cdag.graph_objects import Graph\n",
    "from pyparcs.graph_builder.parsers import graph_file_parser\n",
    "import numpy as np\n",
    "\n",
    "import pickle\n",
    "from modules import helpers\n",
    "\n",
    "helpers.seed(1)"
   ]
  },
  {
   "cell_type": "markdown",
   "metadata": {},
   "source": [
    "Experiment UDE (sim 10)"
   ]
  },
  {
   "cell_type": "code",
   "execution_count": null,
   "metadata": {},
   "outputs": [],
   "source": [
    "nodes, edges = graph_file_parser('../data/simulator/sim_10b.yml')        # here input sim file to be generated\n",
    "g = Graph(nodes=nodes, edges=edges)\n",
    "\n",
    "dataframe = g.sample(size=20000)\n",
    "dataframe[\"USE\"] = np.zeros(20000)\n",
    "dataframe[\"UIE\"] = np.zeros(20000)\n",
    "\n",
    "with open(\"../data/simulator/sim_10b_full_dataframe\", \"wb\") as output_file:\n",
    "    pickle.dump(dataframe, output_file)"
   ]
  },
  {
   "cell_type": "markdown",
   "metadata": {},
   "source": [
    "Experiment UIE (sim 9)"
   ]
  },
  {
   "cell_type": "code",
   "execution_count": null,
   "metadata": {},
   "outputs": [],
   "source": [
    "nodes, edges = graph_file_parser('../data/simulator/sim_9b.yml')       # here input sim file to be generated\n",
    "g = Graph(nodes=nodes, edges=edges)\n",
    "\n",
    "dataframe = g.sample(size=20000)\n",
    "dataframe[\"USE\"] = np.zeros(20000)\n",
    "dataframe[\"UDE\"] = np.zeros(20000)\n",
    "\n",
    "with open(\"../data/simulator/sim_9b_full_dataframe\", \"wb\") as output_file:\n",
    "    pickle.dump(dataframe, output_file)"
   ]
  },
  {
   "cell_type": "markdown",
   "metadata": {},
   "source": [
    "Continous covariates data"
   ]
  },
  {
   "cell_type": "code",
   "execution_count": null,
   "metadata": {},
   "outputs": [],
   "source": [
    "nodes, edges = graph_file_parser('../data/simulator/sim_cont.yml')\n",
    "g = Graph(nodes=nodes, edges=edges)\n",
    "\n",
    "dataframe = g.sample(size=5000)\n",
    "dataframe[\"Y\"] = np.where(dataframe[\"Y\"]>=2, 1, 0)\n",
    "\n",
    "with open(\"../data/simulator/sim_cont_full_dataframe\", \"wb\") as output_file:\n",
    "    pickle.dump(dataframe, output_file)"
   ]
  }
 ],
 "metadata": {
  "kernelspec": {
   "display_name": "Python 3",
   "language": "python",
   "name": "python3"
  },
  "language_info": {
   "codemirror_mode": {
    "name": "ipython",
    "version": 3
   },
   "file_extension": ".py",
   "mimetype": "text/x-python",
   "name": "python",
   "nbconvert_exporter": "python",
   "pygments_lexer": "ipython3",
   "version": "3.10.12"
  },
  "orig_nbformat": 4
 },
 "nbformat": 4,
 "nbformat_minor": 2
}
